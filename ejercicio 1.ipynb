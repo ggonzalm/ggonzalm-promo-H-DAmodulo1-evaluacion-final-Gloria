{
 "cells": [
  {
   "cell_type": "code",
   "execution_count": 174,
   "metadata": {},
   "outputs": [],
   "source": [
    "class TiendaOnline:\n",
    "\n",
    "\n",
    "    def __init__ (self):\n",
    "        \n",
    "        self.inventario = []\n",
    "        self.clientes = {}\n",
    "        self.ventas_totales = 0.0\n",
    "    \n",
    "    def agregar_producto(self, nombre,precio,cantidad):\n",
    "        for nueva_prenda in self.inventario:\n",
    "            if nueva_prenda[\"nombre\"] == nombre:\n",
    "                nueva_prenda[\"cantidad\"] += cantidad\n",
    "                print(f\"el stock actualmente de {nombre} es {cantidad}\")\n",
    "            \n",
    "        self.inventario.append({\"nombre\": nombre, \"precio\": precio, \"cantidad\": cantidad})\n",
    "        print(f\"se ha añadido un nuevo producto, {nombre}\")\n",
    "# Si la nueva prenda ya la tenemos en inventario, sumar las cantidades al stock, en caso de no tener esa prenda, añadirla al inventario\n",
    "    def ver_inventario(self):\n",
    "        for nueva_prenda in self.inventario:\n",
    "            print(f\"nombre: {nueva_prenda['nombre']}, Precio: {nueva_prenda['precio']}€, cantidad: {nueva_prenda['cantidad']} unidades\")\n",
    "    def buscar_producto(self, nombre):\n",
    "        busqueda = False\n",
    "        for nueva_prenda in self.inventario:\n",
    "            if nueva_prenda[\"nombre\"] == nombre:\n",
    "                busqueda = True\n",
    "                print(f\"nombre: {nueva_prenda['nombre']}, Precio: {nueva_prenda['precio']}€, cantidad: {nueva_prenda['cantidad']} unidades\")\n",
    "            else:\n",
    "                print(\"la prenda no está en el inventario\")\n",
    "    def actualizar_stock(self,nombre, cantidad):\n",
    "        for nueva_prenda in self.inventario:\n",
    "            if nueva_prenda[\"nombre\"] == nombre:\n",
    "                nueva_prenda[\"cantidad\"] += cantidad\n",
    "                print(f\"el stock actualmente de {nombre} es {cantidad}\")       \n",
    "    def eliminar_producto(self,nombre):\n",
    "        for nueva_prenda in self.inventario:\n",
    "            if nueva_prenda[\"nombre\"] == nombre:\n",
    "                self.inventario.remove(nueva_prenda)\n",
    "                print(f\"producto eliminado {nombre}\")\n",
    "            else:\n",
    "                print(\"no encontrado\")    \n",
    "    def calcular_valor_inventario (self):\n",
    "        total_inventario = 0\n",
    "        for nueva_prenda in self.inventario:\n",
    "            total_prenda = nueva_prenda[\"cantidad\"]*nueva_prenda[\"precio\"]\n",
    "            total_inventario += total_prenda\n",
    "        print(f\"la suma del inventario es {total_inventario}\")\n",
    "    def realizar_compra(self):\n",
    "        carro_compra = []\n",
    "        self.ver_inventario\n",
    "        print(\"Estas son las prendas que tenemos disponibles\")\n",
    "\n",
    "        while True:\n",
    "            compra_cliente = input(\"¿Qué prenda quiere comprar?\")\n",
    "            compra_cliente = input(\"¿Cuántas unidades quiere comprar?\")\n",
    "            for nueva_prenda in self.inventario:\n",
    "                if nueva_prenda[\"nombre\"] == nombre:\n",
    "                    total_inventario = nueva_prenda[\"cantidad\"]*nueva_prenda[\"nombre\"]\n",
    "            carro_compra.append(nueva_prenda)\n",
    "            print(compra_cliente = input(\"¿quiere seguir comprando: si o no?\"))\n",
    "            for nueva_prenda in carro_compra:\n",
    "                total_compra += [\"cantidad\"]*nueva_prenda[\"precio\"]\n",
    "            print(f\"la lista de la compra es {carro_compra}\")\n",
    "            print(f\"El total de su compra es {total_compra}\")\n",
    "\n",
    "#si el nombre coincide con el dicc, imprimir, cuantas cantidad con input al cliente, el inventario producto*cantidad y restar de inventario\n",
    "                #carrito.append(prenda)\n",
    "                #quieres comprar mas si o no\n",
    "            #for nueva_prenda in carro_compra:\n",
    "                #total_compra += unidades*nueva_prenda[precio]\n",
    "            #print(la lista de la compra es [carro_compra])\n",
    "            #print(el total gastado en la compra es )"
   ]
  },
  {
   "cell_type": "code",
   "execution_count": 175,
   "metadata": {},
   "outputs": [],
   "source": [
    "mitienda = TiendaOnline()"
   ]
  },
  {
   "cell_type": "code",
   "execution_count": 176,
   "metadata": {},
   "outputs": [
    {
     "name": "stdout",
     "output_type": "stream",
     "text": [
      "se ha añadido un nuevo producto, pantalon\n",
      "se ha añadido un nuevo producto, camisa\n",
      "se ha añadido un nuevo producto, zapatos\n"
     ]
    }
   ],
   "source": [
    "mitienda.agregar_producto(\"pantalon\", 20, 10)\n",
    "mitienda.agregar_producto(\"camisa\", 20, 40)\n",
    "mitienda.agregar_producto(\"zapatos\", 50, 40)"
   ]
  },
  {
   "cell_type": "code",
   "execution_count": 177,
   "metadata": {},
   "outputs": [
    {
     "name": "stdout",
     "output_type": "stream",
     "text": [
      "nombre: pantalon, Precio: 20€, cantidad: 10 unidades\n",
      "nombre: camisa, Precio: 20€, cantidad: 40 unidades\n",
      "nombre: zapatos, Precio: 50€, cantidad: 40 unidades\n"
     ]
    }
   ],
   "source": [
    "mitienda.ver_inventario()"
   ]
  },
  {
   "cell_type": "code",
   "execution_count": 178,
   "metadata": {},
   "outputs": [
    {
     "name": "stdout",
     "output_type": "stream",
     "text": [
      "la prenda no está en el inventario\n",
      "nombre: camisa, Precio: 20€, cantidad: 40 unidades\n",
      "la prenda no está en el inventario\n"
     ]
    }
   ],
   "source": [
    "mitienda.buscar_producto(\"camisa\")"
   ]
  },
  {
   "cell_type": "code",
   "execution_count": 179,
   "metadata": {},
   "outputs": [
    {
     "name": "stdout",
     "output_type": "stream",
     "text": [
      "el stock actualmente de zapatos es 3\n"
     ]
    }
   ],
   "source": [
    "mitienda.actualizar_stock(\"zapatos\", 3)"
   ]
  },
  {
   "cell_type": "code",
   "execution_count": 180,
   "metadata": {},
   "outputs": [
    {
     "name": "stdout",
     "output_type": "stream",
     "text": [
      "no encontrado\n",
      "producto eliminado camisa\n"
     ]
    }
   ],
   "source": [
    "mitienda.eliminar_producto(\"camisa\")"
   ]
  },
  {
   "cell_type": "code",
   "execution_count": 181,
   "metadata": {},
   "outputs": [
    {
     "name": "stdout",
     "output_type": "stream",
     "text": [
      "la suma del inventario es 2350\n"
     ]
    }
   ],
   "source": [
    "mitienda.calcular_valor_inventario()"
   ]
  },
  {
   "cell_type": "code",
   "execution_count": 182,
   "metadata": {},
   "outputs": [
    {
     "name": "stdout",
     "output_type": "stream",
     "text": [
      "Estas son las prendas que tenemos disponibles\n"
     ]
    },
    {
     "ename": "NameError",
     "evalue": "name 'nombre' is not defined",
     "output_type": "error",
     "traceback": [
      "\u001b[1;31m---------------------------------------------------------------------------\u001b[0m",
      "\u001b[1;31mNameError\u001b[0m                                 Traceback (most recent call last)",
      "Cell \u001b[1;32mIn[182], line 1\u001b[0m\n\u001b[1;32m----> 1\u001b[0m mitienda\u001b[38;5;241m.\u001b[39mrealizar_compra()\n",
      "Cell \u001b[1;32mIn[174], line 57\u001b[0m, in \u001b[0;36mTiendaOnline.realizar_compra\u001b[1;34m(self)\u001b[0m\n\u001b[0;32m     55\u001b[0m compra_cliente \u001b[38;5;241m=\u001b[39m \u001b[38;5;28minput\u001b[39m(\u001b[38;5;124m\"\u001b[39m\u001b[38;5;124m¿Cuántas unidades quiere comprar?\u001b[39m\u001b[38;5;124m\"\u001b[39m)\n\u001b[0;32m     56\u001b[0m \u001b[38;5;28;01mfor\u001b[39;00m nueva_prenda \u001b[38;5;129;01min\u001b[39;00m \u001b[38;5;28mself\u001b[39m\u001b[38;5;241m.\u001b[39minventario:\n\u001b[1;32m---> 57\u001b[0m     \u001b[38;5;28;01mif\u001b[39;00m nueva_prenda[\u001b[38;5;124m\"\u001b[39m\u001b[38;5;124mnombre\u001b[39m\u001b[38;5;124m\"\u001b[39m] \u001b[38;5;241m==\u001b[39m nombre:\n\u001b[0;32m     58\u001b[0m         total_inventario \u001b[38;5;241m=\u001b[39m nueva_prenda[\u001b[38;5;124m\"\u001b[39m\u001b[38;5;124mcantidad\u001b[39m\u001b[38;5;124m\"\u001b[39m]\u001b[38;5;241m*\u001b[39mnueva_prenda[\u001b[38;5;124m\"\u001b[39m\u001b[38;5;124mnombre\u001b[39m\u001b[38;5;124m\"\u001b[39m]\n\u001b[0;32m     59\u001b[0m carro_compra\u001b[38;5;241m.\u001b[39mappend(nueva_prenda)\u001b[38;5;66;03m# recuento\u001b[39;00m\n",
      "\u001b[1;31mNameError\u001b[0m: name 'nombre' is not defined"
     ]
    }
   ],
   "source": [
    "mitienda.realizar_compra()"
   ]
  }
 ],
 "metadata": {
  "kernelspec": {
   "display_name": "base",
   "language": "python",
   "name": "python3"
  },
  "language_info": {
   "codemirror_mode": {
    "name": "ipython",
    "version": 3
   },
   "file_extension": ".py",
   "mimetype": "text/x-python",
   "name": "python",
   "nbconvert_exporter": "python",
   "pygments_lexer": "ipython3",
   "version": "3.11.5"
  }
 },
 "nbformat": 4,
 "nbformat_minor": 2
}
